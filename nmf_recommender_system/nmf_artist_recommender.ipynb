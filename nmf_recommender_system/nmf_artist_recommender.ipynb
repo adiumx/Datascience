{
  "cells": [
    {
      "cell_type": "code",
      "source": [
        "from google.colab import drive\n",
        "drive.mount('/content/drive')"
      ],
      "metadata": {
        "colab": {
          "base_uri": "https://localhost:8080/"
        },
        "id": "8A7EA_mdhG1U",
        "outputId": "eff1231f-2468-4f64-dcd6-224ad283369b"
      },
      "execution_count": null,
      "outputs": [
        {
          "output_type": "stream",
          "name": "stdout",
          "text": [
            "Mounted at /content/drive\n"
          ]
        }
      ]
    },
    {
      "cell_type": "code",
      "execution_count": null,
      "metadata": {
        "id": "KrKcj2FheYtJ"
      },
      "outputs": [],
      "source": [
        "import pandas as pd\n",
        "import numpy as np\n",
        "import matplotlib.pyplot as plt\n",
        "import seaborn as sns"
      ]
    },
    {
      "cell_type": "markdown",
      "metadata": {
        "id": "Ff5VlDA6eYtQ"
      },
      "source": [
        "## Non-Negative matrix factorization (NMF)\n",
        "- NMF = Non-negative matrix factorization\n",
        "    - Dimension reduction technique\n",
        "    - NMF models are interpretable (unlike PCA)\n",
        "    - Easy to interpret means easy to explain\n",
        "    - However, all sample features must be non-negative \n",
        "- NMF components\n",
        "    - Just like PCA has principal components\n",
        "    - Dimension of components = dimension of samples\n",
        "    - Entries are non-negative\n",
        "    - Can be used to reconstruct the samples\n",
        "    - Combine feature values with components\n",
        "- Sample reconstruction\n",
        "    - Multiply components by feature values, and add up\n",
        "    - Can also be expressed as a product of matrices\n",
        "    - This is the \"Matrix Factorization\" in \"NMF\""
      ]
    },
    {
      "cell_type": "markdown",
      "metadata": {
        "id": "znqO1aiweYtT"
      },
      "source": [
        "### NMF applied to Wikipedia articles\n",
        "\n",
        "\n"
      ]
    },
    {
      "cell_type": "markdown",
      "metadata": {
        "id": "LdtO0iFdeYtU"
      },
      "source": [
        "#### Preprocess"
      ]
    },
    {
      "cell_type": "code",
      "execution_count": null,
      "metadata": {
        "id": "sxVzDvmxeYtV"
      },
      "outputs": [],
      "source": [
        "from scipy.sparse import csr_matrix\n",
        "\n",
        "documents = pd.read_csv('/content/drive/MyDrive/wikipedia-vectors.csv', index_col=0)\n",
        "titles = documents.columns\n",
        "articles = csr_matrix(documents.values).T"
      ]
    },
    {
      "cell_type": "code",
      "execution_count": null,
      "metadata": {
        "id": "WUv2IanSeYtX",
        "colab": {
          "base_uri": "https://localhost:8080/"
        },
        "outputId": "09b8eccc-10e1-46ff-84ac-c35ae1c68810"
      },
      "outputs": [
        {
          "output_type": "stream",
          "name": "stdout",
          "text": [
            "[[0.00000000e+00 0.00000000e+00 0.00000000e+00 0.00000000e+00\n",
            "  0.00000000e+00 4.40457960e-01]\n",
            " [0.00000000e+00 0.00000000e+00 0.00000000e+00 0.00000000e+00\n",
            "  0.00000000e+00 5.66595158e-01]\n",
            " [3.82069105e-03 0.00000000e+00 0.00000000e+00 0.00000000e+00\n",
            "  0.00000000e+00 3.98639837e-01]\n",
            " [0.00000000e+00 0.00000000e+00 0.00000000e+00 0.00000000e+00\n",
            "  0.00000000e+00 3.81733422e-01]\n",
            " [0.00000000e+00 0.00000000e+00 0.00000000e+00 0.00000000e+00\n",
            "  0.00000000e+00 4.85508698e-01]\n",
            " [1.29294811e-02 1.37894786e-02 7.76310431e-03 3.34442246e-02\n",
            "  0.00000000e+00 3.34516223e-01]\n",
            " [0.00000000e+00 0.00000000e+00 2.06737548e-02 0.00000000e+00\n",
            "  6.04537852e-03 3.59055091e-01]\n",
            " [0.00000000e+00 0.00000000e+00 0.00000000e+00 0.00000000e+00\n",
            "  0.00000000e+00 4.90968189e-01]\n",
            " [1.54279021e-02 1.42822535e-02 3.76626037e-03 2.37080325e-02\n",
            "  2.62642514e-02 4.80766344e-01]\n",
            " [1.11742087e-02 3.13689181e-02 3.09479237e-02 6.56912674e-02\n",
            "  1.96694325e-02 3.38283001e-01]\n",
            " [0.00000000e+00 0.00000000e+00 5.30707896e-01 0.00000000e+00\n",
            "  2.83704194e-02 0.00000000e+00]\n",
            " [0.00000000e+00 0.00000000e+00 3.56501558e-01 0.00000000e+00\n",
            "  0.00000000e+00 0.00000000e+00]\n",
            " [1.20131179e-02 6.50059204e-03 3.12238466e-01 6.09690134e-02\n",
            "  1.13871261e-02 1.92599070e-02]\n",
            " [3.93498363e-03 6.24456310e-03 3.42365813e-01 1.10754290e-02\n",
            "  0.00000000e+00 0.00000000e+00]\n",
            " [4.63836375e-03 0.00000000e+00 4.34905597e-01 0.00000000e+00\n",
            "  3.84308570e-02 3.08127902e-03]\n",
            " [0.00000000e+00 0.00000000e+00 4.83278595e-01 0.00000000e+00\n",
            "  0.00000000e+00 0.00000000e+00]\n",
            " [5.65035102e-03 1.83539551e-02 3.76524812e-01 3.25417859e-02\n",
            "  0.00000000e+00 1.13332574e-02]\n",
            " [0.00000000e+00 0.00000000e+00 4.80903315e-01 0.00000000e+00\n",
            "  0.00000000e+00 0.00000000e+00]\n",
            " [0.00000000e+00 9.01883894e-03 5.50995947e-01 0.00000000e+00\n",
            "  0.00000000e+00 0.00000000e+00]\n",
            " [0.00000000e+00 0.00000000e+00 4.65959493e-01 0.00000000e+00\n",
            "  0.00000000e+00 0.00000000e+00]\n",
            " [0.00000000e+00 1.14083428e-02 2.08651184e-02 5.17698921e-01\n",
            "  5.81459262e-02 1.37851950e-02]\n",
            " [0.00000000e+00 0.00000000e+00 0.00000000e+00 5.10407855e-01\n",
            "  0.00000000e+00 0.00000000e+00]\n",
            " [0.00000000e+00 5.60116879e-03 0.00000000e+00 4.22324067e-01\n",
            "  0.00000000e+00 0.00000000e+00]\n",
            " [0.00000000e+00 0.00000000e+00 0.00000000e+00 4.36693570e-01\n",
            "  0.00000000e+00 0.00000000e+00]\n",
            " [0.00000000e+00 0.00000000e+00 0.00000000e+00 4.98026251e-01\n",
            "  0.00000000e+00 0.00000000e+00]\n",
            " [9.88426039e-02 8.60062561e-02 3.91027387e-03 3.80967190e-01\n",
            "  4.39278525e-04 5.22144890e-03]\n",
            " [0.00000000e+00 0.00000000e+00 0.00000000e+00 5.72094304e-01\n",
            "  0.00000000e+00 7.13534563e-03]\n",
            " [1.31473043e-02 1.04855664e-02 0.00000000e+00 4.68844105e-01\n",
            "  0.00000000e+00 1.16308267e-02]\n",
            " [3.84562333e-03 0.00000000e+00 0.00000000e+00 5.75634508e-01\n",
            "  0.00000000e+00 0.00000000e+00]\n",
            " [2.25252739e-03 1.38740387e-03 0.00000000e+00 5.27876021e-01\n",
            "  1.20275160e-02 1.49481842e-02]\n",
            " [0.00000000e+00 4.07556680e-01 1.85710544e-03 0.00000000e+00\n",
            "  2.96636316e-03 4.52323764e-04]\n",
            " [1.53426105e-03 6.08185722e-01 5.22265931e-04 6.24770363e-03\n",
            "  1.18455068e-03 4.40055175e-04]\n",
            " [5.38836779e-03 2.65022586e-01 5.38499496e-04 1.86901141e-02\n",
            "  6.38707053e-03 2.90099681e-03]\n",
            " [0.00000000e+00 6.44929350e-01 0.00000000e+00 0.00000000e+00\n",
            "  0.00000000e+00 0.00000000e+00]\n",
            " [0.00000000e+00 6.08919672e-01 0.00000000e+00 0.00000000e+00\n",
            "  0.00000000e+00 0.00000000e+00]\n",
            " [0.00000000e+00 3.43692419e-01 0.00000000e+00 0.00000000e+00\n",
            "  3.97829330e-03 0.00000000e+00]\n",
            " [6.10528516e-03 3.15319397e-01 1.54876640e-02 0.00000000e+00\n",
            "  5.06288731e-03 4.74326270e-03]\n",
            " [6.47393923e-03 2.13333007e-01 9.49475084e-03 4.56920802e-02\n",
            "  1.71929533e-02 9.52047875e-03]\n",
            " [7.99173035e-03 4.67604922e-01 0.00000000e+00 2.43393164e-02\n",
            "  0.00000000e+00 0.00000000e+00]\n",
            " [0.00000000e+00 6.42833521e-01 0.00000000e+00 2.35823328e-03\n",
            "  0.00000000e+00 0.00000000e+00]\n",
            " [0.00000000e+00 0.00000000e+00 0.00000000e+00 0.00000000e+00\n",
            "  4.77121897e-01 0.00000000e+00]\n",
            " [0.00000000e+00 0.00000000e+00 0.00000000e+00 0.00000000e+00\n",
            "  4.94296514e-01 0.00000000e+00]\n",
            " [0.00000000e+00 2.99077733e-04 2.14484228e-03 0.00000000e+00\n",
            "  3.81809706e-01 5.83772707e-03]\n",
            " [0.00000000e+00 0.00000000e+00 0.00000000e+00 5.64619161e-03\n",
            "  5.42285618e-01 0.00000000e+00]\n",
            " [1.78065535e-03 7.84431332e-04 1.41624963e-02 4.59757368e-04\n",
            "  4.24336979e-01 0.00000000e+00]\n",
            " [0.00000000e+00 0.00000000e+00 0.00000000e+00 0.00000000e+00\n",
            "  5.11433617e-01 0.00000000e+00]\n",
            " [0.00000000e+00 0.00000000e+00 3.28380176e-03 0.00000000e+00\n",
            "  3.72917155e-01 0.00000000e+00]\n",
            " [0.00000000e+00 2.62090677e-04 3.61096752e-02 2.32306872e-04\n",
            "  2.30529512e-01 0.00000000e+00]\n",
            " [1.12521355e-02 2.12332061e-03 1.60969199e-02 1.02471325e-02\n",
            "  3.25488043e-01 3.75874640e-02]\n",
            " [0.00000000e+00 0.00000000e+00 0.00000000e+00 0.00000000e+00\n",
            "  4.18992361e-01 3.57701235e-04]\n",
            " [3.08383424e-01 0.00000000e+00 0.00000000e+00 0.00000000e+00\n",
            "  0.00000000e+00 0.00000000e+00]\n",
            " [3.68193474e-01 0.00000000e+00 0.00000000e+00 0.00000000e+00\n",
            "  0.00000000e+00 0.00000000e+00]\n",
            " [3.97966069e-01 2.81709006e-02 3.67004296e-03 1.70044227e-02\n",
            "  1.95983764e-03 2.11640902e-02]\n",
            " [3.75814634e-01 2.07525162e-03 0.00000000e+00 3.72105144e-02\n",
            "  0.00000000e+00 5.85918025e-03]\n",
            " [4.38051549e-01 0.00000000e+00 0.00000000e+00 0.00000000e+00\n",
            "  0.00000000e+00 0.00000000e+00]\n",
            " [4.57905421e-01 0.00000000e+00 0.00000000e+00 0.00000000e+00\n",
            "  0.00000000e+00 0.00000000e+00]\n",
            " [2.75491911e-01 4.46966165e-03 0.00000000e+00 5.29585429e-02\n",
            "  0.00000000e+00 1.90994541e-02]\n",
            " [4.45217653e-01 0.00000000e+00 0.00000000e+00 0.00000000e+00\n",
            "  5.48743779e-03 0.00000000e+00]\n",
            " [2.92755994e-01 1.33667616e-02 1.14261008e-02 1.05186114e-02\n",
            "  1.87711797e-01 9.23949816e-03]\n",
            " [3.78286655e-01 1.43973320e-02 0.00000000e+00 9.85109223e-02\n",
            "  1.35911551e-02 0.00000000e+00]]\n"
          ]
        },
        {
          "output_type": "stream",
          "name": "stderr",
          "text": [
            "/usr/local/lib/python3.7/dist-packages/sklearn/decomposition/_nmf.py:294: FutureWarning: The 'init' value, when 'init=None' and n_components is less than n_samples and n_features, will be changed from 'nndsvd' to 'nndsvda' in 1.1 (renaming of 0.26).\n",
            "  FutureWarning,\n"
          ]
        }
      ],
      "source": [
        "from sklearn.decomposition import NMF\n",
        "\n",
        "# Create an NMF instance: model\n",
        "model = NMF(n_components=6)\n",
        "\n",
        "# Fit the model to articles\n",
        "model.fit(articles)\n",
        "\n",
        "# Transform the articles: nmf_features\n",
        "nmf_features = model.transform(articles)\n",
        "\n",
        "# Print the NMF features\n",
        "print(nmf_features)"
      ]
    },
    {
      "cell_type": "markdown",
      "metadata": {
        "id": "WM1051bzeYtZ"
      },
      "source": [
        "### NMF features of the Wikipedia articles\n",
        "Now you will explore the NMF features you created in the previous exercise. A solution to the previous exercise has been pre-loaded, so the array ```nmf_features``` is available. Also available is a list titles giving the ```title``` of each Wikipedia article.\n",
        "\n",
        "When investigating the features, notice that for both actors, the NMF feature 3 has by far the highest value. This means that both articles are reconstructed using mainly the 3rd NMF component. In the next video, you'll see why: NMF components represent topics (for instance, acting!)."
      ]
    },
    {
      "cell_type": "code",
      "execution_count": null,
      "metadata": {
        "id": "DbcB3zGkeYta",
        "colab": {
          "base_uri": "https://localhost:8080/"
        },
        "outputId": "a5a76913-1b42-4961-9cdb-c9a57792dc5c"
      },
      "outputs": [
        {
          "output_type": "stream",
          "name": "stdout",
          "text": [
            "0    0.003846\n",
            "1    0.000000\n",
            "2    0.000000\n",
            "3    0.575635\n",
            "4    0.000000\n",
            "5    0.000000\n",
            "Name: Anne Hathaway, dtype: float64\n",
            "0    0.000000\n",
            "1    0.005601\n",
            "2    0.000000\n",
            "3    0.422324\n",
            "4    0.000000\n",
            "5    0.000000\n",
            "Name: Denzel Washington, dtype: float64\n"
          ]
        }
      ],
      "source": [
        "# Create a pandas DataFrame: df\n",
        "df = pd.DataFrame(nmf_features, index=titles)\n",
        "\n",
        "# Print the row for 'Anne Hathaway'\n",
        "print(df.loc['Anne Hathaway'])\n",
        "\n",
        "# Print the row for 'Denzel Washington'\n",
        "print(df.loc['Denzel Washington'])"
      ]
    },
    {
      "cell_type": "markdown",
      "metadata": {
        "id": "SSyPQRXHeYtc"
      },
      "source": [
        "### NMF reconstructs samples\n",
        "### NMF reconstructs samples\n",
        "In this exercise, you'll check your understanding of how NMF reconstructs samples from its components using the NMF feature values. On the right are the components of an NMF model. If the NMF feature values of a sample are ```[2, 1]```, then which of the following is most likely to represent the original sample? A pen and paper will help here! You have to apply the same technique Ben used in the video to reconstruct the sample ```[0.1203 0.1764 0.3195 0.141]```.\n"
      ]
    },
    {
      "cell_type": "code",
      "execution_count": null,
      "metadata": {
        "id": "haKpqBSHeYtd"
      },
      "outputs": [],
      "source": [
        "sample_feature = np.array([2, 1])\n",
        "components = np.array([[1. , 0.5, 0. ],\n",
        "                       [0.2, 0.1, 2.1]])"
      ]
    },
    {
      "cell_type": "code",
      "execution_count": null,
      "metadata": {
        "id": "nrStisE2eYte",
        "colab": {
          "base_uri": "https://localhost:8080/"
        },
        "outputId": "55bd4b73-912c-4647-9627-0a6fbb27b798"
      },
      "outputs": [
        {
          "output_type": "execute_result",
          "data": {
            "text/plain": [
              "array([2.2, 1.1, 2.1])"
            ]
          },
          "metadata": {},
          "execution_count": 7
        }
      ],
      "source": [
        "np.matmul(sample_feature.T, components)"
      ]
    },
    {
      "cell_type": "markdown",
      "metadata": {
        "id": "TMEvCsSQeYtf"
      },
      "source": [
        "## NMF learns interpretable parts\n"
      ]
    },
    {
      "cell_type": "markdown",
      "metadata": {
        "id": "jvEG2sVkeYtg"
      },
      "source": [
        "### NMF learns topics of documents\n",
        "when NMF is applied to documents, the components correspond to topics of documents, and the NMF features reconstruct the documents from the topics. Verify this for yourself for the NMF model that you built earlier using the Wikipedia articles. Previously, you saw that the 3rd NMF feature value was high for the articles about actors Anne Hathaway and Denzel Washington. In this exercise, identify the topic of the corresponding NMF component.\n",
        "\n",
        "The NMF model you built earlier is available as model, while words is a list of the words that label the columns of the word-frequency array.\n",
        "\n",
        "After you are done, take a moment to recognise the topic that the articles about Anne Hathaway and Denzel Washington have in common!"
      ]
    },
    {
      "cell_type": "markdown",
      "metadata": {
        "id": "oqoQ-cIKeYth"
      },
      "source": [
        "#### Preprocess"
      ]
    },
    {
      "cell_type": "code",
      "execution_count": null,
      "metadata": {
        "id": "nRFyD0KPeYti"
      },
      "outputs": [],
      "source": [
        "words = []\n",
        "with open('/content/drive/MyDrive/wikipedia-vocabulary-utf8.txt.txt') as f:\n",
        "    words = f.read().splitlines()"
      ]
    },
    {
      "cell_type": "code",
      "execution_count": null,
      "metadata": {
        "id": "Jz1WWjjbeYtj",
        "colab": {
          "base_uri": "https://localhost:8080/"
        },
        "outputId": "39f92a06-77f6-4496-e4f0-46f5204a3294"
      },
      "outputs": [
        {
          "output_type": "stream",
          "name": "stdout",
          "text": [
            "(6, 13125)\n",
            "film       0.627959\n",
            "award      0.253165\n",
            "starred    0.245317\n",
            "role       0.211479\n",
            "actress    0.186422\n",
            "Name: 3, dtype: float64\n"
          ]
        }
      ],
      "source": [
        "# Create a DataFrame: components_df\n",
        "components_df = pd.DataFrame(model.components_, columns=words)\n",
        "\n",
        "# Print the shape of the DataFrame\n",
        "print(components_df.shape)\n",
        "\n",
        "# Select row 3: component\n",
        "component = components_df.iloc[3]\n",
        "\n",
        "# Print result of nlargest\n",
        "print(component.nlargest())"
      ]
    },
    {
      "cell_type": "markdown",
      "metadata": {
        "id": "-fsqe60deYtk"
      },
      "source": [
        "### Explore the LED digits dataset\n",
        "In the following exercises, you'll use NMF to decompose grayscale images into their commonly occurring patterns. Firstly, explore the image dataset and see how it is encoded as an array. You are given 100 images as a 2D array ```samples```, where each row represents a single 13x8 image. The images in your dataset are pictures of a LED digital display."
      ]
    },
    {
      "cell_type": "code",
      "source": [
        "length = 4  # length of any LCD cell (\"stroke\")\n",
        "shape = (2 * length + 5, length + 4)  # shape of the images"
      ],
      "metadata": {
        "id": "Om1BjUfhlgJg"
      },
      "execution_count": null,
      "outputs": []
    },
    {
      "cell_type": "code",
      "source": [
        "from matplotlib import pyplot as plt\n",
        "\n",
        "def show_as_image(vector):\n",
        "    \"\"\"\n",
        "    Given a 1d vector representing an image, display that image in \n",
        "    black and white.  If there are negative values, then use red for \n",
        "    that pixel.\n",
        "    (displaying negative pixel values in red allows e.g. visual contrasting\n",
        "    of PCA and NMF components)\n",
        "    \"\"\"\n",
        "    bitmap = vector.copy().reshape(shape)  # make a square array\n",
        "    bitmap /= np.abs(vector).max()  # normalise (a copy!)\n",
        "    bitmap = bitmap[:,:,np.newaxis]\n",
        "    rgb_layers = [np.abs(bitmap)] + [bitmap.clip(0)] * 2\n",
        "    rgb_bitmap = np.concatenate(rgb_layers, axis=-1)\n",
        "    plt.figure(figsize=(2, 1))\n",
        "    plt.imshow(rgb_bitmap, interpolation='nearest')\n",
        "    plt.xticks([])\n",
        "    plt.yticks([])\n",
        "    plt.show()"
      ],
      "metadata": {
        "id": "CY28AP3qlg9Z"
      },
      "execution_count": null,
      "outputs": []
    },
    {
      "cell_type": "code",
      "source": [
        "import numpy as np\n",
        "\n",
        "def vertical_stroke(rightness, downness):\n",
        "    \"\"\"\n",
        "    Return a 2d numpy array representing an image with a single vertical stroke in it.\n",
        "    `rightness` and `downness` are values from [0, 1] and define the position of the vertical stroke.\n",
        "    \"\"\"\n",
        "    i = (downness * (length + 1)) + 2\n",
        "    j = rightness * (length + 1) + 1\n",
        "    x = np.zeros(shape=shape, dtype=np.float64)\n",
        "    for delta in range(length):\n",
        "        x[i + delta, j] = 1.\n",
        "    return x\n",
        "\n",
        "def horizontal_stroke(downness):\n",
        "    \"\"\"\n",
        "    Analogue to vertical_stroke, but it returns horizontal strokes.\n",
        "    `downness` is here a value in [0, 1, 2].\n",
        "    \"\"\"\n",
        "    i = (downness * (length + 1)) + 1\n",
        "    x = np.zeros(shape=shape, dtype=np.float64)\n",
        "    for j in range(length):\n",
        "        x[i, 2 + j] = 1.\n",
        "    return x\n",
        "\n",
        "print(horizontal_stroke(0))"
      ],
      "metadata": {
        "colab": {
          "base_uri": "https://localhost:8080/"
        },
        "id": "8pOekAiZlkA-",
        "outputId": "e9e26081-4616-44ec-e681-50d0d4a35ce2"
      },
      "execution_count": null,
      "outputs": [
        {
          "output_type": "stream",
          "name": "stdout",
          "text": [
            "[[0. 0. 0. 0. 0. 0. 0. 0.]\n",
            " [0. 0. 1. 1. 1. 1. 0. 0.]\n",
            " [0. 0. 0. 0. 0. 0. 0. 0.]\n",
            " [0. 0. 0. 0. 0. 0. 0. 0.]\n",
            " [0. 0. 0. 0. 0. 0. 0. 0.]\n",
            " [0. 0. 0. 0. 0. 0. 0. 0.]\n",
            " [0. 0. 0. 0. 0. 0. 0. 0.]\n",
            " [0. 0. 0. 0. 0. 0. 0. 0.]\n",
            " [0. 0. 0. 0. 0. 0. 0. 0.]\n",
            " [0. 0. 0. 0. 0. 0. 0. 0.]\n",
            " [0. 0. 0. 0. 0. 0. 0. 0.]\n",
            " [0. 0. 0. 0. 0. 0. 0. 0.]\n",
            " [0. 0. 0. 0. 0. 0. 0. 0.]]\n"
          ]
        }
      ]
    },
    {
      "cell_type": "code",
      "source": [
        "strokes = [horizontal_stroke(k) for k in range(3)] + [vertical_stroke(k, l) for k in range(2) for l in range(2)]"
      ],
      "metadata": {
        "id": "g6rAMMYLlm0X"
      },
      "execution_count": null,
      "outputs": []
    },
    {
      "cell_type": "code",
      "source": [
        "import random\n",
        "\n",
        "def random_composition():\n",
        "    \"\"\"\n",
        "    Return a random composition of 2, 3, 4, or 5 strokes as a single 2d numpy array.\n",
        "    (So not guaranteed to look like a real digit!)\n",
        "    \"\"\"\n",
        "    x = np.zeros(shape=shape, dtype=np.float64)\n",
        "    num_strokes = random.choice([2, 3, 4, 5])\n",
        "    sample = random.sample(strokes, num_strokes) # without replacement\n",
        "    for atom in sample:\n",
        "        x += atom\n",
        "    return x"
      ],
      "metadata": {
        "id": "3hn7CzCalqmq"
      },
      "execution_count": null,
      "outputs": []
    },
    {
      "cell_type": "code",
      "source": [
        "bitmap = random_composition()\n",
        "print(bitmap)"
      ],
      "metadata": {
        "colab": {
          "base_uri": "https://localhost:8080/"
        },
        "id": "_1jppOzQls4t",
        "outputId": "01b0f3da-3401-42eb-839c-0cf4990ae0e4"
      },
      "execution_count": null,
      "outputs": [
        {
          "output_type": "stream",
          "name": "stdout",
          "text": [
            "[[0. 0. 0. 0. 0. 0. 0. 0.]\n",
            " [0. 0. 0. 0. 0. 0. 0. 0.]\n",
            " [0. 1. 0. 0. 0. 0. 0. 0.]\n",
            " [0. 1. 0. 0. 0. 0. 0. 0.]\n",
            " [0. 1. 0. 0. 0. 0. 0. 0.]\n",
            " [0. 1. 0. 0. 0. 0. 0. 0.]\n",
            " [0. 0. 0. 0. 0. 0. 0. 0.]\n",
            " [0. 0. 0. 0. 0. 0. 0. 0.]\n",
            " [0. 0. 0. 0. 0. 0. 0. 0.]\n",
            " [0. 0. 0. 0. 0. 0. 0. 0.]\n",
            " [0. 0. 0. 0. 0. 0. 0. 0.]\n",
            " [0. 0. 1. 1. 1. 1. 0. 0.]\n",
            " [0. 0. 0. 0. 0. 0. 0. 0.]]\n"
          ]
        }
      ]
    },
    {
      "cell_type": "code",
      "source": [
        "N = 200\n",
        "samples = [random_composition().flatten() for _ in range(N)]\n",
        "X = np.vstack(samples)\n",
        "print(X.shape)"
      ],
      "metadata": {
        "colab": {
          "base_uri": "https://localhost:8080/"
        },
        "id": "eOccZg1VlxBj",
        "outputId": "beb7fc26-581d-4f0b-8ff9-db079d9700c4"
      },
      "execution_count": null,
      "outputs": [
        {
          "output_type": "stream",
          "name": "stdout",
          "text": [
            "(200, 104)\n"
          ]
        }
      ]
    },
    {
      "cell_type": "markdown",
      "metadata": {
        "id": "8PcvniFyeYtk"
      },
      "source": [
        "#### Preprocess"
      ]
    },
    {
      "cell_type": "code",
      "execution_count": null,
      "metadata": {
        "id": "SSg8RT_ueYtn",
        "colab": {
          "base_uri": "https://localhost:8080/",
          "height": 618
        },
        "outputId": "2498c6d9-4adf-47cf-b946-4139f6140d15"
      },
      "outputs": [
        {
          "output_type": "stream",
          "name": "stdout",
          "text": [
            "[0. 0. 0. 0. 0. 0. 0. 0. 0. 0. 1. 1. 1. 1. 0. 0. 0. 1. 0. 0. 0. 0. 1. 0.\n",
            " 0. 1. 0. 0. 0. 0. 1. 0. 0. 1. 0. 0. 0. 0. 1. 0. 0. 1. 0. 0. 0. 0. 1. 0.\n",
            " 0. 0. 0. 0. 0. 0. 0. 0. 0. 1. 0. 0. 0. 0. 0. 0. 0. 1. 0. 0. 0. 0. 0. 0.\n",
            " 0. 1. 0. 0. 0. 0. 0. 0. 0. 1. 0. 0. 0. 0. 0. 0. 0. 0. 0. 0. 0. 0. 0. 0.\n",
            " 0. 0. 0. 0. 0. 0. 0. 0.]\n",
            "[[0. 0. 0. 0. 0. 0. 0. 0.]\n",
            " [0. 0. 1. 1. 1. 1. 0. 0.]\n",
            " [0. 1. 0. 0. 0. 0. 1. 0.]\n",
            " [0. 1. 0. 0. 0. 0. 1. 0.]\n",
            " [0. 1. 0. 0. 0. 0. 1. 0.]\n",
            " [0. 1. 0. 0. 0. 0. 1. 0.]\n",
            " [0. 0. 0. 0. 0. 0. 0. 0.]\n",
            " [0. 1. 0. 0. 0. 0. 0. 0.]\n",
            " [0. 1. 0. 0. 0. 0. 0. 0.]\n",
            " [0. 1. 0. 0. 0. 0. 0. 0.]\n",
            " [0. 1. 0. 0. 0. 0. 0. 0.]\n",
            " [0. 0. 0. 0. 0. 0. 0. 0.]\n",
            " [0. 0. 0. 0. 0. 0. 0. 0.]]\n"
          ]
        },
        {
          "output_type": "execute_result",
          "data": {
            "text/plain": [
              "<matplotlib.colorbar.Colorbar at 0x7fb5a83dc350>"
            ]
          },
          "metadata": {},
          "execution_count": 17
        },
        {
          "output_type": "display_data",
          "data": {
            "text/plain": [
              "<Figure size 432x288 with 2 Axes>"
            ],
            "image/png": "[encoded data removed]"
          },
          "metadata": {
            "needs_background": "light"
          }
        }
      ],
      "source": [
        "# Select the 0th row: digit\n",
        "digit = samples[0]\n",
        "\n",
        "# Print digit\n",
        "print(digit)\n",
        "\n",
        "# Reshape digit to a 13x8 array: bitmap\n",
        "bitmap = digit.reshape(13, 8)\n",
        "\n",
        "# Print bitmap\n",
        "print(bitmap)\n",
        "\n",
        "# Use plt.imshow to display bitmap\n",
        "plt.imshow(bitmap, cmap='gray', interpolation='nearest')\n",
        "plt.colorbar()"
      ]
    },
    {
      "cell_type": "markdown",
      "metadata": {
        "id": "FJO3emtleYto"
      },
      "source": [
        "### NMF learns the parts of images\n",
        "Now use what you've learned about NMF to decompose the digits dataset. You are again given the digit images as a 2D array ```samples```. This time, you are also provided with a function ```show_as_image()``` that displays the image encoded by any 1D array:\n",
        "```python\n",
        "def show_as_image(sample):\n",
        "    bitmap = sample.reshape((13, 8))\n",
        "    plt.figure()\n",
        "    plt.imshow(bitmap, cmap='gray', interpolation='nearest')\n",
        "    plt.colorbar()\n",
        "    plt.show()\n",
        "```\n"
      ]
    },
    {
      "cell_type": "code",
      "execution_count": null,
      "metadata": {
        "id": "3KyAnxQseYtp"
      },
      "outputs": [],
      "source": [
        "def show_as_image(sample):\n",
        "    bitmap = sample.reshape((13, 8))\n",
        "    plt.figure()\n",
        "    plt.imshow(bitmap, cmap='gray', interpolation='nearest')\n",
        "    plt.colorbar()"
      ]
    },
    {
      "cell_type": "code",
      "execution_count": null,
      "metadata": {
        "id": "CkCwB24UeYtp",
        "colab": {
          "base_uri": "https://localhost:8080/",
          "height": 1000
        },
        "outputId": "0eeee785-6364-4edd-ab78-2ea0b7e7d401"
      },
      "outputs": [
        {
          "output_type": "stream",
          "name": "stderr",
          "text": [
            "/usr/local/lib/python3.7/dist-packages/sklearn/decomposition/_nmf.py:294: FutureWarning: The 'init' value, when 'init=None' and n_components is less than n_samples and n_features, will be changed from 'nndsvd' to 'nndsvda' in 1.1 (renaming of 0.26).\n",
            "  FutureWarning,\n"
          ]
        },
        {
          "output_type": "stream",
          "name": "stdout",
          "text": [
            "[0.         0.54003398 0.45722925 0.         0.         0.43933228\n",
            " 0.40873771]\n"
          ]
        },
        {
          "output_type": "display_data",
          "data": {
            "text/plain": [
              "<Figure size 432x288 with 2 Axes>"
            ],
            "image/png": "[encoded data removed]"
          },
          "metadata": {
            "needs_background": "light"
          }
        },
        {
          "output_type": "display_data",
          "data": {
            "text/plain": [
              "<Figure size 432x288 with 2 Axes>"
            ],
            "image/png": "[encoded data removed]"
          },
          "metadata": {
            "needs_background": "light"
          }
        },
        {
          "output_type": "display_data",
          "data": {
            "text/plain": [
              "<Figure size 432x288 with 2 Axes>"
            ],
            "image/png": "[encoded data removed]"
          },
          "metadata": {
            "needs_background": "light"
          }
        },
        {
          "output_type": "display_data",
          "data": {
            "text/plain": [
              "<Figure size 432x288 with 2 Axes>"
            ],
            "image/png": "[encoded data removed]"
          },
          "metadata": {
            "needs_background": "light"
          }
        },
        {
          "output_type": "display_data",
          "data": {
            "text/plain": [
              "<Figure size 432x288 with 2 Axes>"
            ],
            "image/png": "[encoded data removed]"
          },
          "metadata": {
            "needs_background": "light"
          }
        },
        {
          "output_type": "display_data",
          "data": {
            "text/plain": [
              "<Figure size 432x288 with 2 Axes>"
            ],
            "image/png": "[encoded data removed]"
          },
          "metadata": {
            "needs_background": "light"
          }
        },
        {
          "output_type": "display_data",
          "data": {
            "text/plain": [
              "<Figure size 432x288 with 2 Axes>"
            ],
            "image/png": "[encoded data removed]"
          },
          "metadata": {
            "needs_background": "light"
          }
        }
      ],
      "source": [
        "# Create an NMF model: model\n",
        "model = NMF(n_components=7)\n",
        "\n",
        "# Apply fit_transform to samples: features\n",
        "features = model.fit_transform(samples)\n",
        "\n",
        "# Call show_as_image on each component\n",
        "for component in model.components_:\n",
        "    show_as_image(component)\n",
        "    \n",
        "# Assign the 0th row of features: digit_features\n",
        "digit_features = features[0]\n",
        "\n",
        "# Print digit_features\n",
        "print(digit_features)"
      ]
    },
    {
      "cell_type": "markdown",
      "metadata": {
        "id": "Uf2UCP7DeYtq"
      },
      "source": [
        "### PCA doesn't learn parts\n",
        "Unlike NMF, PCA doesn't learn the parts of things. Its components do not correspond to topics (in the case of documents) or to parts of images, when trained on images. Verify this for yourself by inspecting the components of a PCA model fit to the dataset of LED digit images from the previous exercise. The images are available as a 2D array ```samples```. Also available is a modified version of the ```show_as_image()``` function which colors a pixel red if the value is negative.\n",
        "\n",
        "After submitting the answer, notice that the components of PCA do not represent meaningful parts of images of LED digits!"
      ]
    },
    {
      "cell_type": "code",
      "execution_count": null,
      "metadata": {
        "id": "1xWEvtWseYtq",
        "colab": {
          "base_uri": "https://localhost:8080/",
          "height": 1000
        },
        "outputId": "88c01f72-102c-4db3-d105-94795b1db580"
      },
      "outputs": [
        {
          "output_type": "display_data",
          "data": {
            "text/plain": [
              "<Figure size 432x288 with 2 Axes>"
            ],
            "image/png": "[encoded data removed]"
          },
          "metadata": {
            "needs_background": "light"
          }
        },
        {
          "output_type": "display_data",
          "data": {
            "text/plain": [
              "<Figure size 432x288 with 2 Axes>"
            ],
            "image/png": "[encoded data removed]"
          },
          "metadata": {
            "needs_background": "light"
          }
        },
        {
          "output_type": "display_data",
          "data": {
            "text/plain": [
              "<Figure size 432x288 with 2 Axes>"
            ],
            "image/png": "[encoded data removed]"
          },
          "metadata": {
            "needs_background": "light"
          }
        },
        {
          "output_type": "display_data",
          "data": {
            "text/plain": [
              "<Figure size 432x288 with 2 Axes>"
            ],
            "image/png": "[encoded data removed]"
          },
          "metadata": {
            "needs_background": "light"
          }
        },
        {
          "output_type": "display_data",
          "data": {
            "text/plain": [
              "<Figure size 432x288 with 2 Axes>"
            ],
            "image/png": "[encoded data removed]"
          },
          "metadata": {
            "needs_background": "light"
          }
        },
        {
          "output_type": "display_data",
          "data": {
            "text/plain": [
              "<Figure size 432x288 with 2 Axes>"
            ],
            "image/png": "[encoded data removed]"
          },
          "metadata": {
            "needs_background": "light"
          }
        },
        {
          "output_type": "display_data",
          "data": {
            "text/plain": [
              "<Figure size 432x288 with 2 Axes>"
            ],
            "image/png": "[encoded data removed]"
          },
          "metadata": {
            "needs_background": "light"
          }
        }
      ],
      "source": [
        "from sklearn.decomposition import PCA\n",
        "\n",
        "# Createa PCA instance: model\n",
        "model = PCA(n_components=7)\n",
        "\n",
        "# Apply fit_transform to samples: features\n",
        "features = model.fit_transform(samples)\n",
        "\n",
        "# Call show_as_image on each component\n",
        "for component in model.components_:\n",
        "    show_as_image(component)"
      ]
    },
    {
      "cell_type": "markdown",
      "metadata": {
        "id": "PyvUYowCeYtr"
      },
      "source": [
        "## Building recommender systems using NMF\n",
        "- Finding similar articles\n",
        "    - Engineer at a large online newspaper\n",
        "    - Task: recommand articles similar to article being read by customer\n",
        "    - Similar articles should have similar topics\n",
        "- Strategy\n",
        "    - Apply NMF to the word-frequency array\n",
        "    - NMF feature values describe the topics, so similar documents have similar NMF feature values\n",
        "    - Compare NMF feature values?\n",
        "- Versions of articles\n",
        "    - Different versions of the same document have same topic proportions\n",
        "    - exact feature values may be different!\n",
        "        E.g., because one version uses many meaningless words\n",
        "    - But all versions lie on the same line through the origin\n",
        "- Cosine Similarity\n",
        "![cosine similarity](https://github.com/goodboychan/chans_jupyter/blob/master/_notebooks/image/cosine.png?raw=1)\n",
        "    - Uses the angle between the lines\n",
        "    - Higher values means more similar\n",
        "    - Maximum value is 1, when angle is 0 degrees"
      ]
    },
    {
      "cell_type": "markdown",
      "metadata": {
        "id": "eY4Zjg5neYtr"
      },
      "source": [
        "### Which articles are similar to 'Cristiano Ronaldo'?\n",
        "In the video, you learned how to use NMF features and the cosine similarity to find similar articles. Apply this to your NMF model for popular Wikipedia articles, by finding the articles most similar to the article about the footballer Cristiano Ronaldo. The NMF features you obtained earlier are available as ```nmf_features```, while ```titles``` is a list of the article titles."
      ]
    },
    {
      "cell_type": "code",
      "execution_count": null,
      "metadata": {
        "id": "RI4mV9jQeYtr",
        "colab": {
          "base_uri": "https://localhost:8080/"
        },
        "outputId": "5e29c083-fd28-4c27-e3e9-97204dcab296"
      },
      "outputs": [
        {
          "output_type": "stream",
          "name": "stdout",
          "text": [
            "Cristiano Ronaldo                1.000000\n",
            "Franck Ribéry                    0.999972\n",
            "Radamel Falcao                   0.999942\n",
            "Zlatan Ibrahimović               0.999942\n",
            "France national football team    0.999923\n",
            "dtype: float64\n"
          ]
        }
      ],
      "source": [
        "from sklearn.preprocessing import normalize\n",
        "\n",
        "# Normalize the NMF features: norm_features\n",
        "norm_features = normalize(nmf_features)\n",
        "\n",
        "# Create a DataFrame: df\n",
        "df = pd.DataFrame(norm_features, index=titles)\n",
        "\n",
        "# Select the row corresponding to 'Cristiano Ronaldo': article\n",
        "article = df.loc['Cristiano Ronaldo']\n",
        "\n",
        "# Compute the dot products: similarities\n",
        "similarities = df.dot(article)\n",
        "\n",
        "# Display thouse with the largest cosine similarity\n",
        "print(similarities.nlargest())"
      ]
    },
    {
      "cell_type": "markdown",
      "metadata": {
        "id": "6el37MJteYts"
      },
      "source": [
        "### Recommend musical artists part I\n",
        "In this exercise and the next, you'll use what you've learned about NMF to recommend popular music artists! You are given a sparse array ```artists``` whose rows correspond to artists and whose columns correspond to users. The entries give the number of times each artist was listened to by each user.\n",
        "\n",
        "In this exercise, build a pipeline and transform the array into normalized NMF features. The first step in the pipeline, ```MaxAbsScaler```, transforms the data so that all users have the same influence on the model, regardless of how many different artists they've listened to. In the next exercise, you'll use the resulting normalized NMF features for recommendation!"
      ]
    },
    {
      "cell_type": "markdown",
      "metadata": {
        "id": "N6LpvyK8eYts"
      },
      "source": [
        "#### Preprocess"
      ]
    },
    {
      "cell_type": "code",
      "execution_count": null,
      "metadata": {
        "id": "cgOEuZXJeYts"
      },
      "outputs": [],
      "source": [
        "from scipy.sparse import coo_matrix\n",
        "\n",
        "df = pd.read_csv('/content/drive/MyDrive/scrobbler-small-sample.csv')\n",
        "artists1 = df.sort_values(['artist_offset', 'user_offset'], ascending=[True, True])\n",
        "row_ind = np.array(artists1['artist_offset'])\n",
        "col_ind = np.array(artists1['user_offset'])\n",
        "data1 = np.array(artists1['playcount'])\n",
        "artists = coo_matrix((data1, (row_ind, col_ind)))"
      ]
    },
    {
      "cell_type": "code",
      "execution_count": null,
      "metadata": {
        "id": "Q6JuMxEJeYtt",
        "colab": {
          "base_uri": "https://localhost:8080/"
        },
        "outputId": "c16a8c08-4d02-4ac9-ac58-c003cd319bbc"
      },
      "outputs": [
        {
          "output_type": "execute_result",
          "data": {
            "text/plain": [
              "<111x500 sparse matrix of type '<class 'numpy.int64'>'\n",
              "\twith 2894 stored elements in COOrdinate format>"
            ]
          },
          "metadata": {},
          "execution_count": 23
        }
      ],
      "source": [
        "artists"
      ]
    },
    {
      "cell_type": "code",
      "execution_count": null,
      "metadata": {
        "id": "Ayu5DNJUeYtu",
        "colab": {
          "base_uri": "https://localhost:8080/"
        },
        "outputId": "ac05bc5f-0213-4a15-e7a6-03a083a2cbdf"
      },
      "outputs": [
        {
          "output_type": "stream",
          "name": "stderr",
          "text": [
            "/usr/local/lib/python3.7/dist-packages/sklearn/decomposition/_nmf.py:294: FutureWarning: The 'init' value, when 'init=None' and n_components is less than n_samples and n_features, will be changed from 'nndsvd' to 'nndsvda' in 1.1 (renaming of 0.26).\n",
            "  FutureWarning,\n"
          ]
        }
      ],
      "source": [
        "from sklearn.preprocessing import Normalizer, MaxAbsScaler\n",
        "from sklearn.pipeline import make_pipeline\n",
        "\n",
        "# Create a MaxAbsScaler: scaler\n",
        "scaler = MaxAbsScaler()\n",
        "\n",
        "# Create an NMF model: nmf\n",
        "nmf = NMF(n_components=20)\n",
        "\n",
        "# Create a Normalizer: normalizer\n",
        "normalizer = Normalizer()\n",
        "\n",
        "# Create a pipeline: pipeline\n",
        "pipeline = make_pipeline(scaler, nmf, normalizer)\n",
        "\n",
        "# Apply fit_transform to artists: norm_features\n",
        "norm_features = pipeline.fit_transform(artists)"
      ]
    },
    {
      "cell_type": "markdown",
      "metadata": {
        "id": "VSQpQI_XeYtu"
      },
      "source": [
        "### Recommend musical artists part II\n",
        "Suppose you were a big fan of Bruce Springsteen - which other musicial artists might you like? Use your NMF features from the previous exercise and the cosine similarity to find similar musical artists. A solution to the previous exercise has been run, so ```norm_features``` is an array containing the normalized NMF features as rows. The names of the musical artists are available as the list ```artist_names```."
      ]
    },
    {
      "cell_type": "markdown",
      "metadata": {
        "id": "Ztz_fkLgeYtu"
      },
      "source": [
        "#### Preprocess"
      ]
    },
    {
      "cell_type": "code",
      "execution_count": null,
      "metadata": {
        "id": "igUqxeodeYtw"
      },
      "outputs": [],
      "source": [
        "df = pd.read_csv('/content/drive/MyDrive/artists.csv', header=None)\n",
        "artist_names = df.values.reshape(111).tolist()"
      ]
    },
    {
      "cell_type": "code",
      "execution_count": null,
      "metadata": {
        "id": "MVTiK0WOeYtw",
        "colab": {
          "base_uri": "https://localhost:8080/"
        },
        "outputId": "097ed96b-95b7-48e7-b0f5-d08a791761f0"
      },
      "outputs": [
        {
          "output_type": "execute_result",
          "data": {
            "text/plain": [
              "['Massive Attack',\n",
              " 'Sublime',\n",
              " 'Beastie Boys',\n",
              " 'Neil Young',\n",
              " 'Dead Kennedys',\n",
              " 'Orbital',\n",
              " 'Miles Davis',\n",
              " 'Leonard Cohen',\n",
              " 'Van Morrison',\n",
              " 'NOFX',\n",
              " 'Rancid',\n",
              " 'Lamb',\n",
              " 'Korn',\n",
              " 'Dropkick Murphys',\n",
              " 'Bob Dylan',\n",
              " 'Eminem',\n",
              " 'Nirvana',\n",
              " 'Van Halen',\n",
              " 'Damien Rice',\n",
              " 'Elvis Costello',\n",
              " 'Everclear',\n",
              " 'Jimi Hendrix',\n",
              " 'PJ Harvey',\n",
              " 'Red Hot Chili Peppers',\n",
              " 'Ryan Adams',\n",
              " 'Soundgarden',\n",
              " 'The White Stripes',\n",
              " 'Madonna',\n",
              " 'Eric Clapton',\n",
              " 'Bob Marley',\n",
              " 'Dr. Dre',\n",
              " 'The Flaming Lips',\n",
              " 'Tom Waits',\n",
              " 'Moby',\n",
              " 'Cypress Hill',\n",
              " 'Garbage',\n",
              " 'Fear Factory',\n",
              " '50 Cent',\n",
              " 'Ani DiFranco',\n",
              " 'Matchbox Twenty',\n",
              " 'The Police',\n",
              " 'Eagles',\n",
              " 'Phish',\n",
              " 'Stone Temple Pilots',\n",
              " 'Black Sabbath',\n",
              " 'Britney Spears',\n",
              " 'Fatboy Slim',\n",
              " 'System of a Down',\n",
              " 'Simon & Garfunkel',\n",
              " 'Snoop Dogg',\n",
              " 'Aimee Mann',\n",
              " 'Less Than Jake',\n",
              " 'Rammstein',\n",
              " 'Reel Big Fish',\n",
              " 'The Prodigy',\n",
              " 'Pantera',\n",
              " 'Foo Fighters',\n",
              " 'The Beatles',\n",
              " 'Incubus',\n",
              " 'Audioslave',\n",
              " 'Bright Eyes',\n",
              " 'Machine Head',\n",
              " 'AC/DC',\n",
              " 'Dire Straits',\n",
              " 'Motörhead',\n",
              " 'Ramones',\n",
              " 'Slipknot',\n",
              " 'Me First and the Gimme Gimmes',\n",
              " 'Bruce Springsteen',\n",
              " 'Queens of the Stone Age',\n",
              " 'The Chemical Brothers',\n",
              " 'Bon Jovi',\n",
              " 'Goo Goo Dolls',\n",
              " 'Alice in Chains',\n",
              " 'Howard Shore',\n",
              " 'Barenaked Ladies',\n",
              " 'Anti-Flag',\n",
              " 'Nick Cave and the Bad Seeds',\n",
              " 'Static-X',\n",
              " 'Misfits',\n",
              " '2Pac',\n",
              " 'Sparta',\n",
              " 'Interpol',\n",
              " 'The Crystal Method',\n",
              " 'The Beach Boys',\n",
              " 'Goldfrapp',\n",
              " 'Bob Marley & the Wailers',\n",
              " 'Kylie Minogue',\n",
              " 'The Blood Brothers',\n",
              " 'Mirah',\n",
              " 'Ludacris',\n",
              " 'Snow Patrol',\n",
              " 'The Mars Volta',\n",
              " 'Yeah Yeah Yeahs',\n",
              " 'Iced Earth',\n",
              " 'Fiona Apple',\n",
              " 'Rilo Kiley',\n",
              " 'Rufus Wainwright',\n",
              " 'Flogging Molly',\n",
              " 'Hot Hot Heat',\n",
              " 'Dredg',\n",
              " 'Switchfoot',\n",
              " 'Tegan and Sara',\n",
              " 'Rage Against the Machine',\n",
              " 'Keane',\n",
              " 'Jet',\n",
              " 'Franz Ferdinand',\n",
              " 'The Postal Service',\n",
              " 'The Dresden Dolls',\n",
              " 'The Killers',\n",
              " 'Death From Above 1979']"
            ]
          },
          "metadata": {},
          "execution_count": 26
        }
      ],
      "source": [
        "artist_names"
      ]
    },
    {
      "cell_type": "code",
      "execution_count": null,
      "metadata": {
        "id": "9C_7rvnTeYtx",
        "colab": {
          "base_uri": "https://localhost:8080/"
        },
        "outputId": "342fe718-5aae-4f6c-a437-f973bad21234"
      },
      "outputs": [
        {
          "output_type": "stream",
          "name": "stdout",
          "text": [
            "Bruce Springsteen    1.000000\n",
            "Neil Young           0.957370\n",
            "Van Morrison         0.877683\n",
            "Leonard Cohen        0.870472\n",
            "Bob Dylan            0.864604\n",
            "dtype: float64\n"
          ]
        }
      ],
      "source": [
        "# Createa DataFrame: df\n",
        "df = pd.DataFrame(norm_features, index=artist_names)\n",
        "\n",
        "# Select row of 'Bruce Springsteen': artist\n",
        "artist = df.loc['Bruce Springsteen']\n",
        "\n",
        "# Compute cosine similarities: similarities\n",
        "similarities = df.dot(artist)\n",
        "\n",
        "# Display those with highest cosine similarity\n",
        "print(similarities.nlargest())"
      ]
    }
  ],
  "metadata": {
    "kernelspec": {
      "display_name": "Python 3",
      "language": "python",
      "name": "python3"
    },
    "language_info": {
      "codemirror_mode": {
        "name": "ipython",
        "version": 3
      },
      "file_extension": ".py",
      "mimetype": "text/x-python",
      "name": "python",
      "nbconvert_exporter": "python",
      "pygments_lexer": "ipython3",
      "version": "3.7.6"
    },
    "colab": {
      "provenance": []
    }
  },
  "nbformat": 4,
  "nbformat_minor": 0
}