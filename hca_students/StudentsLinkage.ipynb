{
  "nbformat": 4,
  "nbformat_minor": 0,
  "metadata": {
    "colab": {
      "provenance": []
    },
    "kernelspec": {
      "name": "python3",
      "display_name": "Python 3"
    },
    "language_info": {
      "name": "python"
    }
  },
  "cells": [
    {
      "cell_type": "markdown",
      "source": [
        "#Clustering jerarquico \n",
        "detecta a los individuos que puedan ser considerados como similares y los asigna a un mismo cluster dejando a los individuos disimilares en clusters distintos"
      ],
      "metadata": {
        "id": "qFznkUl7bsJo"
      }
    },
    {
      "cell_type": "markdown",
      "source": [
        "1. Aglomerativo: Se trata de un enfoque \"ascendente\": Cada observación comienza en su propio conglomerado, y los pares de conglomerados se fusionan a medida que se asciende en la jerarquía.\n",
        "2. Divisivo: Se trata de un enfoque \"descendente\": Todas las observaciones comienzan en un conglomerado, y las divisiones se realizan recursivamente a medida que se desciende en la jerarquía."
      ],
      "metadata": {
        "id": "1yAfWvizbuv5"
      }
    },
    {
      "cell_type": "markdown",
      "source": [
        "#Tecnicas de aglomeración/División\n",
        "Sirven para determinar cuales clusters se irán agrupando\n",
        "\n",
        "1. Método del vecino más próximo (nearest neighbor clustering)  o Enlace simple (Single linkage clustering)\n",
        "2. Método del vecino más lejano (furthest neighbor clustering) o Enlace completo (Complete Linkage clustering)\n",
        "3. Método de agrupación de vinculación promedio (Average linkage clustering) o Vinculación inter-grupo (unweighted Pair-group arithmetic averages (UPGMA))\n",
        "4. Método de Ward o Varianza mínima (Minimum variante clustering)\n",
        "5. Método del Centroide\n",
        "6. Método de la Mediana"
      ],
      "metadata": {
        "id": "c_BZRF29byB6"
      }
    },
    {
      "cell_type": "markdown",
      "source": [
        "#Linkage"
      ],
      "metadata": {
        "id": "ppauM8BBdig2"
      }
    },
    {
      "cell_type": "code",
      "execution_count": 3,
      "metadata": {
        "colab": {
          "base_uri": "https://localhost:8080/"
        },
        "id": "3L88Uen7Zi2Q",
        "outputId": "d3905687-7caf-4192-8705-db5ffbc2e3df"
      },
      "outputs": [
        {
          "output_type": "stream",
          "name": "stdout",
          "text": [
            "Mounted at /content/drive\n"
          ]
        }
      ],
      "source": [
        "import scipy.cluster.hierarchy as sch \n",
        "from scipy.cluster.hierarchy import dendrogram, linkage, fcluster\n",
        "from google.colab import drive\n",
        "drive.mount(\"/content/drive\")"
      ]
    },
    {
      "cell_type": "code",
      "source": [
        "import pandas as pd\n",
        "path = \"/content/drive/MyDrive/Ejemplo Estudiantes.csv\"\n",
        "Estudiantes = pd.read_csv(path, sep=\",\", encoding=\"ISO-8859-1\", header=0, engine='python')"
      ],
      "metadata": {
        "id": "BamRA7DeebNQ"
      },
      "execution_count": 5,
      "outputs": []
    },
    {
      "cell_type": "code",
      "source": [
        "Estudiantes.info()"
      ],
      "metadata": {
        "colab": {
          "base_uri": "https://localhost:8080/"
        },
        "id": "0oUxawL5eez0",
        "outputId": "4d944330-ed48-4b94-cee6-eeb13a1d7e67"
      },
      "execution_count": 6,
      "outputs": [
        {
          "output_type": "stream",
          "name": "stdout",
          "text": [
            "<class 'pandas.core.frame.DataFrame'>\n",
            "RangeIndex: 10 entries, 0 to 9\n",
            "Data columns (total 6 columns):\n",
            " #   Column       Non-Null Count  Dtype  \n",
            "---  ------       --------------  -----  \n",
            " 0   Estudiante   10 non-null     object \n",
            " 1   Matematicas  10 non-null     float64\n",
            " 2   Ciencias     10 non-null     float64\n",
            " 3   Espanol      10 non-null     float64\n",
            " 4   Historia     10 non-null     float64\n",
            " 5   Deportes     10 non-null     float64\n",
            "dtypes: float64(5), object(1)\n",
            "memory usage: 608.0+ bytes\n"
          ]
        }
      ]
    },
    {
      "cell_type": "code",
      "source": [
        "Estudiantes"
      ],
      "metadata": {
        "colab": {
          "base_uri": "https://localhost:8080/",
          "height": 363
        },
        "id": "9M1RioSJehZw",
        "outputId": "fcbb7da9-e628-4a0a-db30-42692b29e558"
      },
      "execution_count": 7,
      "outputs": [
        {
          "output_type": "execute_result",
          "data": {
            "text/plain": [
              "  Estudiante  Matematicas  Ciencias  Espanol  Historia  Deportes\n",
              "0      Lucia          7.0       6.5      9.2       8.6       8.0\n",
              "1      Pedro          7.5       9.4      7.3       7.0       7.0\n",
              "2       Ines          7.6       9.2      8.0       8.0       7.5\n",
              "3       Luis          5.0       6.5      6.5       7.0       9.0\n",
              "4     Andres          6.0       6.0      7.8       8.9       7.3\n",
              "5        Ana          7.8       9.6      7.7       8.0       6.5\n",
              "6     Carlos          6.3       6.4      8.2       9.0       7.2\n",
              "7       Jose          7.9       9.7      7.5       8.0       6.0\n",
              "8      Sonia          6.0       6.0      6.5       5.5       8.7\n",
              "9      Maria          6.8       7.2      8.7       9.0       7.0"
            ],
            "text/html": [
              "\n",
              "  <div id=\"df-c0249f23-cbeb-410e-95a5-1caca4fe6a6a\">\n",
              "    <div class=\"colab-df-container\">\n",
              "      <div>\n",
              "<style scoped>\n",
              "    .dataframe tbody tr th:only-of-type {\n",
              "        vertical-align: middle;\n",
              "    }\n",
              "\n",
              "    .dataframe tbody tr th {\n",
              "        vertical-align: top;\n",
              "    }\n",
              "\n",
              "    .dataframe thead th {\n",
              "        text-align: right;\n",
              "    }\n",
              "</style>\n",
              "<table border=\"1\" class=\"dataframe\">\n",
              "  <thead>\n",
              "    <tr style=\"text-align: right;\">\n",
              "      <th></th>\n",
              "      <th>Estudiante</th>\n",
              "      <th>Matematicas</th>\n",
              "      <th>Ciencias</th>\n",
              "      <th>Espanol</th>\n",
              "      <th>Historia</th>\n",
              "      <th>Deportes</th>\n",
              "    </tr>\n",
              "  </thead>\n",
              "  <tbody>\n",
              "    <tr>\n",
              "      <th>0</th>\n",
              "      <td>Lucia</td>\n",
              "      <td>7.0</td>\n",
              "      <td>6.5</td>\n",
              "      <td>9.2</td>\n",
              "      <td>8.6</td>\n",
              "      <td>8.0</td>\n",
              "    </tr>\n",
              "    <tr>\n",
              "      <th>1</th>\n",
              "      <td>Pedro</td>\n",
              "      <td>7.5</td>\n",
              "      <td>9.4</td>\n",
              "      <td>7.3</td>\n",
              "      <td>7.0</td>\n",
              "      <td>7.0</td>\n",
              "    </tr>\n",
              "    <tr>\n",
              "      <th>2</th>\n",
              "      <td>Ines</td>\n",
              "      <td>7.6</td>\n",
              "      <td>9.2</td>\n",
              "      <td>8.0</td>\n",
              "      <td>8.0</td>\n",
              "      <td>7.5</td>\n",
              "    </tr>\n",
              "    <tr>\n",
              "      <th>3</th>\n",
              "      <td>Luis</td>\n",
              "      <td>5.0</td>\n",
              "      <td>6.5</td>\n",
              "      <td>6.5</td>\n",
              "      <td>7.0</td>\n",
              "      <td>9.0</td>\n",
              "    </tr>\n",
              "    <tr>\n",
              "      <th>4</th>\n",
              "      <td>Andres</td>\n",
              "      <td>6.0</td>\n",
              "      <td>6.0</td>\n",
              "      <td>7.8</td>\n",
              "      <td>8.9</td>\n",
              "      <td>7.3</td>\n",
              "    </tr>\n",
              "    <tr>\n",
              "      <th>5</th>\n",
              "      <td>Ana</td>\n",
              "      <td>7.8</td>\n",
              "      <td>9.6</td>\n",
              "      <td>7.7</td>\n",
              "      <td>8.0</td>\n",
              "      <td>6.5</td>\n",
              "    </tr>\n",
              "    <tr>\n",
              "      <th>6</th>\n",
              "      <td>Carlos</td>\n",
              "      <td>6.3</td>\n",
              "      <td>6.4</td>\n",
              "      <td>8.2</td>\n",
              "      <td>9.0</td>\n",
              "      <td>7.2</td>\n",
              "    </tr>\n",
              "    <tr>\n",
              "      <th>7</th>\n",
              "      <td>Jose</td>\n",
              "      <td>7.9</td>\n",
              "      <td>9.7</td>\n",
              "      <td>7.5</td>\n",
              "      <td>8.0</td>\n",
              "      <td>6.0</td>\n",
              "    </tr>\n",
              "    <tr>\n",
              "      <th>8</th>\n",
              "      <td>Sonia</td>\n",
              "      <td>6.0</td>\n",
              "      <td>6.0</td>\n",
              "      <td>6.5</td>\n",
              "      <td>5.5</td>\n",
              "      <td>8.7</td>\n",
              "    </tr>\n",
              "    <tr>\n",
              "      <th>9</th>\n",
              "      <td>Maria</td>\n",
              "      <td>6.8</td>\n",
              "      <td>7.2</td>\n",
              "      <td>8.7</td>\n",
              "      <td>9.0</td>\n",
              "      <td>7.0</td>\n",
              "    </tr>\n",
              "  </tbody>\n",
              "</table>\n",
              "</div>\n",
              "      <button class=\"colab-df-convert\" onclick=\"convertToInteractive('df-c0249f23-cbeb-410e-95a5-1caca4fe6a6a')\"\n",
              "              title=\"Convert this dataframe to an interactive table.\"\n",
              "              style=\"display:none;\">\n",
              "        \n",
              "  <svg xmlns=\"http://www.w3.org/2000/svg\" height=\"24px\"viewBox=\"0 0 24 24\"\n",
              "       width=\"24px\">\n",
              "    <path d=\"M0 0h24v24H0V0z\" fill=\"none\"/>\n",
              "    <path d=\"M18.56 5.44l.94 2.06.94-2.06 2.06-.94-2.06-.94-.94-2.06-.94 2.06-2.06.94zm-11 1L8.5 8.5l.94-2.06 2.06-.94-2.06-.94L8.5 2.5l-.94 2.06-2.06.94zm10 10l.94 2.06.94-2.06 2.06-.94-2.06-.94-.94-2.06-.94 2.06-2.06.94z\"/><path d=\"M17.41 7.96l-1.37-1.37c-.4-.4-.92-.59-1.43-.59-.52 0-1.04.2-1.43.59L10.3 9.45l-7.72 7.72c-.78.78-.78 2.05 0 2.83L4 21.41c.39.39.9.59 1.41.59.51 0 1.02-.2 1.41-.59l7.78-7.78 2.81-2.81c.8-.78.8-2.07 0-2.86zM5.41 20L4 18.59l7.72-7.72 1.47 1.35L5.41 20z\"/>\n",
              "  </svg>\n",
              "      </button>\n",
              "      \n",
              "  <style>\n",
              "    .colab-df-container {\n",
              "      display:flex;\n",
              "      flex-wrap:wrap;\n",
              "      gap: 12px;\n",
              "    }\n",
              "\n",
              "    .colab-df-convert {\n",
              "      background-color: #E8F0FE;\n",
              "      border: none;\n",
              "      border-radius: 50%;\n",
              "      cursor: pointer;\n",
              "      display: none;\n",
              "      fill: #1967D2;\n",
              "      height: 32px;\n",
              "      padding: 0 0 0 0;\n",
              "      width: 32px;\n",
              "    }\n",
              "\n",
              "    .colab-df-convert:hover {\n",
              "      background-color: #E2EBFA;\n",
              "      box-shadow: 0px 1px 2px rgba(60, 64, 67, 0.3), 0px 1px 3px 1px rgba(60, 64, 67, 0.15);\n",
              "      fill: #174EA6;\n",
              "    }\n",
              "\n",
              "    [theme=dark] .colab-df-convert {\n",
              "      background-color: #3B4455;\n",
              "      fill: #D2E3FC;\n",
              "    }\n",
              "\n",
              "    [theme=dark] .colab-df-convert:hover {\n",
              "      background-color: #434B5C;\n",
              "      box-shadow: 0px 1px 3px 1px rgba(0, 0, 0, 0.15);\n",
              "      filter: drop-shadow(0px 1px 2px rgba(0, 0, 0, 0.3));\n",
              "      fill: #FFFFFF;\n",
              "    }\n",
              "  </style>\n",
              "\n",
              "      <script>\n",
              "        const buttonEl =\n",
              "          document.querySelector('#df-c0249f23-cbeb-410e-95a5-1caca4fe6a6a button.colab-df-convert');\n",
              "        buttonEl.style.display =\n",
              "          google.colab.kernel.accessAllowed ? 'block' : 'none';\n",
              "\n",
              "        async function convertToInteractive(key) {\n",
              "          const element = document.querySelector('#df-c0249f23-cbeb-410e-95a5-1caca4fe6a6a');\n",
              "          const dataTable =\n",
              "            await google.colab.kernel.invokeFunction('convertToInteractive',\n",
              "                                                     [key], {});\n",
              "          if (!dataTable) return;\n",
              "\n",
              "          const docLinkHtml = 'Like what you see? Visit the ' +\n",
              "            '<a target=\"_blank\" href=https://colab.research.google.com/notebooks/data_table.ipynb>data table notebook</a>'\n",
              "            + ' to learn more about interactive tables.';\n",
              "          element.innerHTML = '';\n",
              "          dataTable['output_type'] = 'display_data';\n",
              "          await google.colab.output.renderOutput(dataTable, element);\n",
              "          const docLink = document.createElement('div');\n",
              "          docLink.innerHTML = docLinkHtml;\n",
              "          element.appendChild(docLink);\n",
              "        }\n",
              "      </script>\n",
              "    </div>\n",
              "  </div>\n",
              "  "
            ]
          },
          "metadata": {},
          "execution_count": 7
        }
      ]
    },
    {
      "cell_type": "code",
      "source": [
        "calificaciones = Estudiantes.iloc[:, [1,2,3,4, 5]].values\n",
        "calificaciones"
      ],
      "metadata": {
        "colab": {
          "base_uri": "https://localhost:8080/"
        },
        "id": "7b3sgv-eeorX",
        "outputId": "6667ebfa-a501-4e52-9cb4-2cf1a9dad25f"
      },
      "execution_count": 8,
      "outputs": [
        {
          "output_type": "execute_result",
          "data": {
            "text/plain": [
              "array([[7. , 6.5, 9.2, 8.6, 8. ],\n",
              "       [7.5, 9.4, 7.3, 7. , 7. ],\n",
              "       [7.6, 9.2, 8. , 8. , 7.5],\n",
              "       [5. , 6.5, 6.5, 7. , 9. ],\n",
              "       [6. , 6. , 7.8, 8.9, 7.3],\n",
              "       [7.8, 9.6, 7.7, 8. , 6.5],\n",
              "       [6.3, 6.4, 8.2, 9. , 7.2],\n",
              "       [7.9, 9.7, 7.5, 8. , 6. ],\n",
              "       [6. , 6. , 6.5, 5.5, 8.7],\n",
              "       [6.8, 7.2, 8.7, 9. , 7. ]])"
            ]
          },
          "metadata": {},
          "execution_count": 8
        }
      ]
    },
    {
      "cell_type": "markdown",
      "source": [
        "**Creando el Dendrograma del Clustering Jerárquico**"
      ],
      "metadata": {
        "id": "UQaPNNWEetJz"
      }
    },
    {
      "cell_type": "code",
      "source": [
        "Clustering_Jerarquico = linkage(calificaciones, 'ward')"
      ],
      "metadata": {
        "id": "teBO6NeEetvm"
      },
      "execution_count": 9,
      "outputs": []
    },
    {
      "cell_type": "code",
      "source": [
        "dendrogram = sch.dendrogram(Clustering_Jerarquico)"
      ],
      "metadata": {
        "colab": {
          "base_uri": "https://localhost:8080/",
          "height": 268
        },
        "id": "Cfgr9rqNewaz",
        "outputId": "948f94b5-aa85-4453-fb2f-5da50825e2a2"
      },
      "execution_count": 10,
      "outputs": [
        {
          "output_type": "display_data",
          "data": {
            "text/plain": [
              "<Figure size 432x288 with 1 Axes>"
            ],
            "image/png": "[encoded data removed]"
          },
          "metadata": {
            "needs_background": "light"
          }
        }
      ]
    },
    {
      "cell_type": "markdown",
      "source": [
        "**asignando clusters a cada estudiante**"
      ],
      "metadata": {
        "id": "J0b6_GJGe3sf"
      }
    },
    {
      "cell_type": "code",
      "source": [
        "clusters = fcluster(Clustering_Jerarquico, t=1, criterion='distance')#altura a la cual se corta el dendrograma"
      ],
      "metadata": {
        "id": "Ui045wU4ezlx"
      },
      "execution_count": 11,
      "outputs": []
    },
    {
      "cell_type": "code",
      "source": [
        "clusters"
      ],
      "metadata": {
        "colab": {
          "base_uri": "https://localhost:8080/"
        },
        "id": "FuQzEhgue9bS",
        "outputId": "76cb63c1-147b-4246-e62a-ae92118c0255"
      },
      "execution_count": 12,
      "outputs": [
        {
          "output_type": "execute_result",
          "data": {
            "text/plain": [
              "array([7, 2, 3, 4, 6, 1, 6, 1, 5, 8], dtype=int32)"
            ]
          },
          "metadata": {},
          "execution_count": 12
        }
      ]
    },
    {
      "cell_type": "markdown",
      "source": [
        "**Se crearon 8 clusters al cortar en t = 1**"
      ],
      "metadata": {
        "id": "hP1BzXLsfErW"
      }
    },
    {
      "cell_type": "markdown",
      "source": [
        "agregando la clasificación al archivo original"
      ],
      "metadata": {
        "id": "hmaiXAXgfI9D"
      }
    },
    {
      "cell_type": "code",
      "source": [
        "Estudiantes['Clustering Jerarquico'] = clusters\n",
        "Estudiantes"
      ],
      "metadata": {
        "colab": {
          "base_uri": "https://localhost:8080/",
          "height": 363
        },
        "id": "4OF9r12UfAIJ",
        "outputId": "492b19bb-ccfe-4a1e-c8be-399f6f8710a2"
      },
      "execution_count": 13,
      "outputs": [
        {
          "output_type": "execute_result",
          "data": {
            "text/plain": [
              "  Estudiante  Matematicas  Ciencias  Espanol  Historia  Deportes  \\\n",
              "0      Lucia          7.0       6.5      9.2       8.6       8.0   \n",
              "1      Pedro          7.5       9.4      7.3       7.0       7.0   \n",
              "2       Ines          7.6       9.2      8.0       8.0       7.5   \n",
              "3       Luis          5.0       6.5      6.5       7.0       9.0   \n",
              "4     Andres          6.0       6.0      7.8       8.9       7.3   \n",
              "5        Ana          7.8       9.6      7.7       8.0       6.5   \n",
              "6     Carlos          6.3       6.4      8.2       9.0       7.2   \n",
              "7       Jose          7.9       9.7      7.5       8.0       6.0   \n",
              "8      Sonia          6.0       6.0      6.5       5.5       8.7   \n",
              "9      Maria          6.8       7.2      8.7       9.0       7.0   \n",
              "\n",
              "   Clustering Jerarquico  \n",
              "0                      7  \n",
              "1                      2  \n",
              "2                      3  \n",
              "3                      4  \n",
              "4                      6  \n",
              "5                      1  \n",
              "6                      6  \n",
              "7                      1  \n",
              "8                      5  \n",
              "9                      8  "
            ],
            "text/html": [
              "\n",
              "  <div id=\"df-882ad37d-4f56-4116-af71-66a51678429c\">\n",
              "    <div class=\"colab-df-container\">\n",
              "      <div>\n",
              "<style scoped>\n",
              "    .dataframe tbody tr th:only-of-type {\n",
              "        vertical-align: middle;\n",
              "    }\n",
              "\n",
              "    .dataframe tbody tr th {\n",
              "        vertical-align: top;\n",
              "    }\n",
              "\n",
              "    .dataframe thead th {\n",
              "        text-align: right;\n",
              "    }\n",
              "</style>\n",
              "<table border=\"1\" class=\"dataframe\">\n",
              "  <thead>\n",
              "    <tr style=\"text-align: right;\">\n",
              "      <th></th>\n",
              "      <th>Estudiante</th>\n",
              "      <th>Matematicas</th>\n",
              "      <th>Ciencias</th>\n",
              "      <th>Espanol</th>\n",
              "      <th>Historia</th>\n",
              "      <th>Deportes</th>\n",
              "      <th>Clustering Jerarquico</th>\n",
              "    </tr>\n",
              "  </thead>\n",
              "  <tbody>\n",
              "    <tr>\n",
              "      <th>0</th>\n",
              "      <td>Lucia</td>\n",
              "      <td>7.0</td>\n",
              "      <td>6.5</td>\n",
              "      <td>9.2</td>\n",
              "      <td>8.6</td>\n",
              "      <td>8.0</td>\n",
              "      <td>7</td>\n",
              "    </tr>\n",
              "    <tr>\n",
              "      <th>1</th>\n",
              "      <td>Pedro</td>\n",
              "      <td>7.5</td>\n",
              "      <td>9.4</td>\n",
              "      <td>7.3</td>\n",
              "      <td>7.0</td>\n",
              "      <td>7.0</td>\n",
              "      <td>2</td>\n",
              "    </tr>\n",
              "    <tr>\n",
              "      <th>2</th>\n",
              "      <td>Ines</td>\n",
              "      <td>7.6</td>\n",
              "      <td>9.2</td>\n",
              "      <td>8.0</td>\n",
              "      <td>8.0</td>\n",
              "      <td>7.5</td>\n",
              "      <td>3</td>\n",
              "    </tr>\n",
              "    <tr>\n",
              "      <th>3</th>\n",
              "      <td>Luis</td>\n",
              "      <td>5.0</td>\n",
              "      <td>6.5</td>\n",
              "      <td>6.5</td>\n",
              "      <td>7.0</td>\n",
              "      <td>9.0</td>\n",
              "      <td>4</td>\n",
              "    </tr>\n",
              "    <tr>\n",
              "      <th>4</th>\n",
              "      <td>Andres</td>\n",
              "      <td>6.0</td>\n",
              "      <td>6.0</td>\n",
              "      <td>7.8</td>\n",
              "      <td>8.9</td>\n",
              "      <td>7.3</td>\n",
              "      <td>6</td>\n",
              "    </tr>\n",
              "    <tr>\n",
              "      <th>5</th>\n",
              "      <td>Ana</td>\n",
              "      <td>7.8</td>\n",
              "      <td>9.6</td>\n",
              "      <td>7.7</td>\n",
              "      <td>8.0</td>\n",
              "      <td>6.5</td>\n",
              "      <td>1</td>\n",
              "    </tr>\n",
              "    <tr>\n",
              "      <th>6</th>\n",
              "      <td>Carlos</td>\n",
              "      <td>6.3</td>\n",
              "      <td>6.4</td>\n",
              "      <td>8.2</td>\n",
              "      <td>9.0</td>\n",
              "      <td>7.2</td>\n",
              "      <td>6</td>\n",
              "    </tr>\n",
              "    <tr>\n",
              "      <th>7</th>\n",
              "      <td>Jose</td>\n",
              "      <td>7.9</td>\n",
              "      <td>9.7</td>\n",
              "      <td>7.5</td>\n",
              "      <td>8.0</td>\n",
              "      <td>6.0</td>\n",
              "      <td>1</td>\n",
              "    </tr>\n",
              "    <tr>\n",
              "      <th>8</th>\n",
              "      <td>Sonia</td>\n",
              "      <td>6.0</td>\n",
              "      <td>6.0</td>\n",
              "      <td>6.5</td>\n",
              "      <td>5.5</td>\n",
              "      <td>8.7</td>\n",
              "      <td>5</td>\n",
              "    </tr>\n",
              "    <tr>\n",
              "      <th>9</th>\n",
              "      <td>Maria</td>\n",
              "      <td>6.8</td>\n",
              "      <td>7.2</td>\n",
              "      <td>8.7</td>\n",
              "      <td>9.0</td>\n",
              "      <td>7.0</td>\n",
              "      <td>8</td>\n",
              "    </tr>\n",
              "  </tbody>\n",
              "</table>\n",
              "</div>\n",
              "      <button class=\"colab-df-convert\" onclick=\"convertToInteractive('df-882ad37d-4f56-4116-af71-66a51678429c')\"\n",
              "              title=\"Convert this dataframe to an interactive table.\"\n",
              "              style=\"display:none;\">\n",
              "        \n",
              "  <svg xmlns=\"http://www.w3.org/2000/svg\" height=\"24px\"viewBox=\"0 0 24 24\"\n",
              "       width=\"24px\">\n",
              "    <path d=\"M0 0h24v24H0V0z\" fill=\"none\"/>\n",
              "    <path d=\"M18.56 5.44l.94 2.06.94-2.06 2.06-.94-2.06-.94-.94-2.06-.94 2.06-2.06.94zm-11 1L8.5 8.5l.94-2.06 2.06-.94-2.06-.94L8.5 2.5l-.94 2.06-2.06.94zm10 10l.94 2.06.94-2.06 2.06-.94-2.06-.94-.94-2.06-.94 2.06-2.06.94z\"/><path d=\"M17.41 7.96l-1.37-1.37c-.4-.4-.92-.59-1.43-.59-.52 0-1.04.2-1.43.59L10.3 9.45l-7.72 7.72c-.78.78-.78 2.05 0 2.83L4 21.41c.39.39.9.59 1.41.59.51 0 1.02-.2 1.41-.59l7.78-7.78 2.81-2.81c.8-.78.8-2.07 0-2.86zM5.41 20L4 18.59l7.72-7.72 1.47 1.35L5.41 20z\"/>\n",
              "  </svg>\n",
              "      </button>\n",
              "      \n",
              "  <style>\n",
              "    .colab-df-container {\n",
              "      display:flex;\n",
              "      flex-wrap:wrap;\n",
              "      gap: 12px;\n",
              "    }\n",
              "\n",
              "    .colab-df-convert {\n",
              "      background-color: #E8F0FE;\n",
              "      border: none;\n",
              "      border-radius: 50%;\n",
              "      cursor: pointer;\n",
              "      display: none;\n",
              "      fill: #1967D2;\n",
              "      height: 32px;\n",
              "      padding: 0 0 0 0;\n",
              "      width: 32px;\n",
              "    }\n",
              "\n",
              "    .colab-df-convert:hover {\n",
              "      background-color: #E2EBFA;\n",
              "      box-shadow: 0px 1px 2px rgba(60, 64, 67, 0.3), 0px 1px 3px 1px rgba(60, 64, 67, 0.15);\n",
              "      fill: #174EA6;\n",
              "    }\n",
              "\n",
              "    [theme=dark] .colab-df-convert {\n",
              "      background-color: #3B4455;\n",
              "      fill: #D2E3FC;\n",
              "    }\n",
              "\n",
              "    [theme=dark] .colab-df-convert:hover {\n",
              "      background-color: #434B5C;\n",
              "      box-shadow: 0px 1px 3px 1px rgba(0, 0, 0, 0.15);\n",
              "      filter: drop-shadow(0px 1px 2px rgba(0, 0, 0, 0.3));\n",
              "      fill: #FFFFFF;\n",
              "    }\n",
              "  </style>\n",
              "\n",
              "      <script>\n",
              "        const buttonEl =\n",
              "          document.querySelector('#df-882ad37d-4f56-4116-af71-66a51678429c button.colab-df-convert');\n",
              "        buttonEl.style.display =\n",
              "          google.colab.kernel.accessAllowed ? 'block' : 'none';\n",
              "\n",
              "        async function convertToInteractive(key) {\n",
              "          const element = document.querySelector('#df-882ad37d-4f56-4116-af71-66a51678429c');\n",
              "          const dataTable =\n",
              "            await google.colab.kernel.invokeFunction('convertToInteractive',\n",
              "                                                     [key], {});\n",
              "          if (!dataTable) return;\n",
              "\n",
              "          const docLinkHtml = 'Like what you see? Visit the ' +\n",
              "            '<a target=\"_blank\" href=https://colab.research.google.com/notebooks/data_table.ipynb>data table notebook</a>'\n",
              "            + ' to learn more about interactive tables.';\n",
              "          element.innerHTML = '';\n",
              "          dataTable['output_type'] = 'display_data';\n",
              "          await google.colab.output.renderOutput(dataTable, element);\n",
              "          const docLink = document.createElement('div');\n",
              "          docLink.innerHTML = docLinkHtml;\n",
              "          element.appendChild(docLink);\n",
              "        }\n",
              "      </script>\n",
              "    </div>\n",
              "  </div>\n",
              "  "
            ]
          },
          "metadata": {},
          "execution_count": 13
        }
      ]
    },
    {
      "cell_type": "code",
      "source": [
        "Estudiantes.to_csv('/content/drive/MyDrive/Estudiantes Clustering Jerarquico.csv')"
      ],
      "metadata": {
        "id": "UgIUG-OlfRnr"
      },
      "execution_count": 14,
      "outputs": []
    }
  ]
}